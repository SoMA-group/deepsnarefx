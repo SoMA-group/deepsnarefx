{
 "cells": [
  {
   "cell_type": "code",
   "execution_count": 1,
   "metadata": {},
   "outputs": [],
   "source": [
    "import os\n",
    "gpus =[1,2,3] # select which gpu\n",
    "for gpu in gpus:\n",
    "    cmd = f'fuser -v /dev/nvidia{gpu}'\n",
    "    output = os.popen(cmd).read()\n",
    "    output = output.split(' ')\n",
    "    output = output[1:]\n",
    "    for i in output:\n",
    "        os.system(f'kill {i}')"
   ]
  },
  {
   "cell_type": "code",
   "execution_count": null,
   "metadata": {},
   "outputs": [],
   "source": [
    "# kill jupyter kernels\n",
    "import os\n",
    "cmd = \"ps aux | grep 'ipykernel' | awk '{ print $2 }' | xargs -n1 kill -9\"\n",
    "os.system(cmd)"
   ]
  }
 ],
 "metadata": {
  "kernelspec": {
   "display_name": "deepafx",
   "language": "python",
   "name": "deepafx"
  },
  "language_info": {
   "codemirror_mode": {
    "name": "ipython",
    "version": 3
   },
   "file_extension": ".py",
   "mimetype": "text/x-python",
   "name": "python",
   "nbconvert_exporter": "python",
   "pygments_lexer": "ipython3",
   "version": "3.6.10"
  }
 },
 "nbformat": 4,
 "nbformat_minor": 4
}
