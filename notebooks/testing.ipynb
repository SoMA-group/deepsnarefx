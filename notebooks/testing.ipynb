{
 "cells": [
  {
   "cell_type": "code",
   "execution_count": 17,
   "metadata": {},
   "outputs": [
    {
     "name": "stdout",
     "output_type": "stream",
     "text": [
      "The autoreload extension is already loaded. To reload it, use:\n",
      "  %reload_ext autoreload\n"
     ]
    }
   ],
   "source": [
    "%load_ext autoreload\n",
    "%autoreload 2\n",
    "import os\n",
    "import numpy as np\n",
    "import soundfile as sf\n",
    "from deepafx import dataset_distortion\n",
    "from deepafx import dataset_nonspeech\n",
    "from deepafx import dataset_mastering\n",
    "from deepafx import download_models"
   ]
  },
  {
   "cell_type": "code",
   "execution_count": 7,
   "metadata": {},
   "outputs": [],
   "source": [
    "# Download the distortion dataset\n",
    "output_dir = '/home/code-base/scratch_space/distortion/'\n",
    "dataset_distortion.download_distortion_dataset(output_dir)"
   ]
  },
  {
   "cell_type": "code",
   "execution_count": 15,
   "metadata": {},
   "outputs": [
    {
     "name": "stdout",
     "output_type": "stream",
     "text": [
      "Bad entry, ignoring\n"
     ]
    }
   ],
   "source": [
    "# Download the mastering dataset\n",
    "mixing_secrets_url = 'https://multitracksearch.cambridge-mt.com/ms-mtk-search.htm'\n",
    "download_dir = '/home/code-base/scratch_space/mastering/mixing_secrets_raw'\n",
    "output_dir = '/home/code-base/scratch_space/mastering/mixing_secrets_mastering'\n",
    "resampled_dir = '/home/code-base/scratch_space/mastering/mixing_secrets_mastering_22050'\n",
    "dataset_mastering.create_mastering_dataset(mixing_secrets_url, download_dir, output_dir, resampled_dir)"
   ]
  },
  {
   "cell_type": "code",
   "execution_count": 19,
   "metadata": {},
   "outputs": [
    {
     "data": {
      "text/plain": [
       "['__annotations__',\n",
       " '__call__',\n",
       " '__class__',\n",
       " '__closure__',\n",
       " '__code__',\n",
       " '__defaults__',\n",
       " '__delattr__',\n",
       " '__dict__',\n",
       " '__dir__',\n",
       " '__doc__',\n",
       " '__eq__',\n",
       " '__format__',\n",
       " '__ge__',\n",
       " '__get__',\n",
       " '__getattribute__',\n",
       " '__globals__',\n",
       " '__gt__',\n",
       " '__hash__',\n",
       " '__init__',\n",
       " '__init_subclass__',\n",
       " '__kwdefaults__',\n",
       " '__le__',\n",
       " '__lt__',\n",
       " '__module__',\n",
       " '__name__',\n",
       " '__ne__',\n",
       " '__new__',\n",
       " '__qualname__',\n",
       " '__reduce__',\n",
       " '__reduce_ex__',\n",
       " '__repr__',\n",
       " '__setattr__',\n",
       " '__sizeof__',\n",
       " '__str__',\n",
       " '__subclasshook__']"
      ]
     },
     "execution_count": 19,
     "metadata": {},
     "output_type": "execute_result"
    }
   ],
   "source": [
    "# Download the nonspeech dataset\n",
    "# dir(download_models.download_models)"
   ]
  },
  {
   "cell_type": "code",
   "execution_count": null,
   "metadata": {},
   "outputs": [],
   "source": [
    "# fp1 = '/scratch-space/models/distortion/full_model_inception/full_model_inception.params.npy'\n",
    "# fp2 = '/scratch-space/models/distortion/full_model_mobilenet/full_model_mobilenet.params.npy'\n",
    "\n",
    "# fp3 = '/scratch-space/models/mastering/full_model_inception/full_model_inception.params.npy'\n",
    "# fp4 = '/scratch-space/models/mastering/full_model_mobilenet/full_model_mobilenet.params.npy'\n",
    "\n",
    "# fp5 = '/scratch-space/models/nonspeech/full_model_inception/full_model_inception.params.npy'\n",
    "fp6 = '/scratch-space/models/nonspeech/full_model_mobilenet/full_model_mobilenet.params.npy'\n",
    "\n",
    "fps = [fp1, fp2]"
   ]
  },
  {
   "cell_type": "code",
   "execution_count": null,
   "metadata": {},
   "outputs": [],
   "source": [
    "# for fp in fps:\n",
    "#     x1 = np.load(fp, allow_pickle=True).tolist()\n",
    "#     print(x1)"
   ]
  },
  {
   "cell_type": "code",
   "execution_count": null,
   "metadata": {},
   "outputs": [],
   "source": []
  },
  {
   "cell_type": "code",
   "execution_count": null,
   "metadata": {},
   "outputs": [],
   "source": [
    "x1 = np.load(fp5, allow_pickle=True).tolist()\n",
    "x1 = np.load(fp6, allow_pickle=True).tolist()\n",
    "for k in sorted(x1):\n",
    "    try:\n",
    "        print(k, x1[k])\n",
    "    except:\n",
    "        pass"
   ]
  },
  {
   "cell_type": "code",
   "execution_count": null,
   "metadata": {},
   "outputs": [],
   "source": []
  },
  {
   "cell_type": "code",
   "execution_count": null,
   "metadata": {},
   "outputs": [],
   "source": []
  },
  {
   "cell_type": "code",
   "execution_count": null,
   "metadata": {},
   "outputs": [],
   "source": []
  },
  {
   "cell_type": "code",
   "execution_count": null,
   "metadata": {},
   "outputs": [],
   "source": [
    "# import json\n",
    "# # input_metadata_json = '/scratch-space/mixing_secrets_raw/mixing_secrets_mastering.json'\n",
    "\n",
    "# # input_metadata_json = '/scratch-space/mixing_secrets_raw/mixing_secrets_mastering.json'\n",
    "# input_metadata_jons = '/scratch-space/mastering/mixing_secrets_mastering/mixing_secrets_mastering.json'\n",
    "\n",
    "# with open(input_metadata_json) as json_file:\n",
    "#     data = json.load(json_file)"
   ]
  },
  {
   "cell_type": "code",
   "execution_count": null,
   "metadata": {},
   "outputs": [],
   "source": [
    "# for key in data:\n",
    "# #     print(data[key]['unmastered_file'])\n",
    "#     if 'ASailorOnceMore' in data[key]['unmastered_file']:\n",
    "#         print(data[key]['unmastered_file'])\n"
   ]
  },
  {
   "cell_type": "code",
   "execution_count": null,
   "metadata": {},
   "outputs": [],
   "source": [
    "# fp ='/home/code-base/scratch_space/mixing_secrets_raw/ASailorOnceMore_Full_Preview.wav'\n",
    "# x, fs = sf.read(fp)"
   ]
  },
  {
   "cell_type": "code",
   "execution_count": null,
   "metadata": {},
   "outputs": [],
   "source": []
  }
 ],
 "metadata": {
  "kernelspec": {
   "display_name": "Python 3",
   "language": "python",
   "name": "python3"
  },
  "language_info": {
   "codemirror_mode": {
    "name": "ipython",
    "version": 3
   },
   "file_extension": ".py",
   "mimetype": "text/x-python",
   "name": "python",
   "nbconvert_exporter": "python",
   "pygments_lexer": "ipython3",
   "version": "3.6.9"
  }
 },
 "nbformat": 4,
 "nbformat_minor": 2
}
